{
 "cells": [
  {
   "cell_type": "code",
   "execution_count": 9,
   "metadata": {},
   "outputs": [],
   "source": [
    "#Table 1. Total Gap in Visit (Millions/y) by Average Number of Visits per Year (Base Case Scenario of Physician Volume)"
   ]
  },
  {
   "cell_type": "code",
   "execution_count": 10,
   "metadata": {},
   "outputs": [
    {
     "name": "stdout",
     "output_type": "stream",
     "text": [
      "     Unnamed: 0    Country_x Code Sex_x  Year_x        htn      treat  \\\n",
      "0             0     Zimbabwe  ZWE   Men    2019  41.654452  34.033606   \n",
      "1             1      Namibia  NAM   Men    2019  43.699591  43.524628   \n",
      "2             2        Nauru  NRU   Men    2019  41.720059  28.790088   \n",
      "3             3        Nepal  NPL   Men    2019  36.763614  18.557965   \n",
      "4             4  Netherlands  NLD   Men    2019  30.505585  43.044550   \n",
      "..          ...          ...  ...   ...     ...        ...        ...   \n",
      "194         194      Vanuatu  VUT   Men    2019  39.607959  13.518640   \n",
      "195         195    Venezuela  VEN   Men    2019  39.403802  62.740932   \n",
      "196         196     Viet Nam  VNM   Men    2019  29.679449  30.115034   \n",
      "197         197        Yemen  YEM   Men    2019  29.314854  36.461627   \n",
      "198         198       Zambia  ZMB   Men    2019  32.031307  23.233238   \n",
      "\n",
      "       control      diagn  untreatedstage2HTN  ... gaps_percent_9  \\\n",
      "0    15.666534  45.838863           24.132367  ...       0.979834   \n",
      "1    21.088988  51.489389           20.213639  ...       0.938876   \n",
      "2    14.990684  53.197284           26.072456  ...       0.866837   \n",
      "3     7.184461  32.925583           27.646364  ...       0.895186   \n",
      "4    23.497359  51.877308           16.464991  ...       0.441122   \n",
      "..         ...        ...                 ...  ...            ...   \n",
      "194   4.872313  29.863223           30.190489  ...       0.982271   \n",
      "195  32.469029  72.123623            9.922682  ...       0.812314   \n",
      "196  12.852032  47.617545           22.789845  ...       0.875260   \n",
      "197  16.463660  44.937842           14.957887  ...       0.955426   \n",
      "198   9.266264  43.085590           27.605339  ...       0.958790   \n",
      "\n",
      "    pop_htn_visit_10  gaps_hf_base_s_10  gaps_percent_10 pop_htn_visit_11  \\\n",
      "0       3.748901e+07       3.680861e+07         0.981851     4.123791e+07   \n",
      "1       6.991935e+06       6.607295e+06         0.944988     7.691128e+06   \n",
      "2       3.337605e+04       2.937605e+04         0.880154     3.671365e+04   \n",
      "3       5.882178e+07       5.327298e+07         0.905668     6.470396e+07   \n",
      "4       3.965726e+07       1.971006e+07         0.497010     4.362299e+07   \n",
      "..               ...                ...              ...              ...   \n",
      "194     7.525512e+05       7.405432e+05         0.984044     8.278063e+05   \n",
      "195     8.274798e+07       6.877038e+07         0.831082     9.102278e+07   \n",
      "196     2.166600e+08       1.923364e+08         0.887734     2.383260e+08   \n",
      "197     4.250654e+07       4.080134e+07         0.959884     4.675719e+07   \n",
      "198     3.299225e+07       3.176861e+07         0.962911     3.629147e+07   \n",
      "\n",
      "    gaps_hf_base_s_11  gaps_percent_11 pop_htn_visit_12  gaps_hf_base_s_12  \\\n",
      "0        4.055751e+07         0.983501     4.498681e+07       4.430641e+07   \n",
      "1        7.306488e+06         0.949989     8.390322e+06       8.005682e+06   \n",
      "2        3.271365e+04         0.891049     4.005126e+04       3.605126e+04   \n",
      "3        5.915516e+07         0.914243     7.058614e+07       6.503734e+07   \n",
      "4        2.367579e+07         0.542736     4.758871e+07       2.764151e+07   \n",
      "..                ...              ...              ...                ...   \n",
      "194      8.157983e+05         0.985494     9.030615e+05       8.910535e+05   \n",
      "195      7.704518e+07         0.846438     9.929758e+07       8.531998e+07   \n",
      "196      2.140024e+08         0.897940     2.599920e+08       2.356684e+08   \n",
      "197      4.505199e+07         0.963531     5.100785e+07       4.930265e+07   \n",
      "198      3.506783e+07         0.966283     3.959070e+07       3.836706e+07   \n",
      "\n",
      "    gaps_percent_12  \n",
      "0          0.984876  \n",
      "1          0.954157  \n",
      "2          0.900128  \n",
      "3          0.921390  \n",
      "4          0.580842  \n",
      "..              ...  \n",
      "194        0.986703  \n",
      "195        0.859235  \n",
      "196        0.906445  \n",
      "197        0.966570  \n",
      "198        0.969093  \n",
      "\n",
      "[199 rows x 105 columns]\n"
     ]
    }
   ],
   "source": [
    "###############################################################################\n",
    "##############################Physician########################################\n",
    "###############################################################################\n",
    "\n",
    "# summarise this as a table \"Total Gap in Visit (Millions/y) by Average Number of Visits per Year (Base Case Scenario of Physician Volume)\"\n",
    "import pandas as pd\n",
    "from docx import Document\n",
    "import matplotlib.pyplot as plt\n",
    "from scipy.interpolate import make_interp_spline\n",
    "import numpy as np\n",
    "df = pd.read_excel(\"./data/hw.xlsx\")\n",
    "# Base scenario: one physician provides 20 consultations per day and works 200 days a year\n",
    "df['phy_s1'] = (df['phy'] * df['pop'] / 10000) * 200 * 20*0.1\n",
    "\n",
    "# Loop to vary 'i' from 1 to 12 and create columns for each 'i'\n",
    "for i in range(1, 13):\n",
    "    # Create a new column 'pop_mh_visit_i'\n",
    "    df[f'pop_htn_visit_{i}'] = df['pop_htn']*i\n",
    "    \n",
    "    # Calculate gaps in mental health care\n",
    "    df[f'gaps_hf_base_s_{i}'] = df[f'pop_htn_visit_{i}'] - df['phy_s1']\n",
    "\n",
    "    df[f'gaps_percent_{i}'] = (df[f'pop_htn_visit_{i}'] - df['phy_s1'])/ df[f'pop_htn_visit_{i}']\n",
    "\n",
    "# View the modified DataFrame\n",
    "print(df)\n",
    "\n",
    "df.columns\n",
    "\n",
    "# Assuming df contains columns 'Income' and 'gaps_hf_base_s_1' to 'gaps_hf_base_s_12'\n",
    "# Create a list to hold the data for the table\n",
    "table_data = []\n",
    "\n",
    "# Get unique income regions\n",
    "income_regions = df['Income'].unique()\n",
    "\n",
    "# Create the table data\n",
    "for region in income_regions:\n",
    "    # Filter the DataFrame for the current region\n",
    "    df_region = df[df['Income'] == region]\n",
    "    \n",
    "    # Collect gaps_hf_base_s_i values from 1 to 12\n",
    "    row = [region] + [-round(df_region[f'gaps_hf_base_s_{i}'].mean() / 1_000_000, 1) for i in range(1, 13)]\n",
    "    table_data.append(row)\n",
    "\n",
    "# Create a DataFrame for the table data\n",
    "columns = ['Income Region'] + [f'gaps_hf_base_s_{i}' for i in range(1, 13)]\n",
    "table_df = pd.DataFrame(table_data, columns=columns)\n",
    "\n",
    "# Add a 'Total' row at the bottom\n",
    "total_row = ['Total'] + [table_df[f'gaps_hf_base_s_{i}'].sum() for i in range(1, 13)]\n",
    "table_df.loc[len(table_df)] = total_row\n",
    "\n",
    "# Write the DataFrame to an Excel file\n",
    "table_df.to_excel('Gaps_Mental_Health_Care1.xlsx', index=False)"
   ]
  },
  {
   "cell_type": "code",
   "execution_count": 11,
   "metadata": {},
   "outputs": [
    {
     "name": "stdout",
     "output_type": "stream",
     "text": [
      "                Income  Frequency  Percentage (%)\n",
      "0  Upper middle income         64            32.2\n",
      "1          High income         61            30.7\n",
      "2  Lower middle income         49            24.6\n",
      "3           Low income         25            12.6\n"
     ]
    }
   ],
   "source": [
    "frequency = df['Income'].value_counts()\n",
    "percentage = (df['Income'].value_counts(normalize=True) * 100).round(1)\n",
    "summary_df = pd.DataFrame({\n",
    "    'Frequency': frequency,\n",
    "    'Percentage (%)': percentage\n",
    "})\n",
    "summary_df = summary_df.reset_index()\n",
    "summary_df.columns = ['Income', 'Frequency', 'Percentage (%)']\n",
    "print(summary_df)"
   ]
  },
  {
   "cell_type": "code",
   "execution_count": 21,
   "metadata": {},
   "outputs": [
    {
     "name": "stdout",
     "output_type": "stream",
     "text": [
      "         Income Region   Mean HTN    SD HTN\n",
      "0          High income  36.186000  6.991401\n",
      "1           Low income  36.749278  4.844107\n",
      "2  Lower middle income  36.102151  5.691497\n",
      "3  Upper middle income  40.256248  6.722967\n"
     ]
    },
    {
     "data": {
      "text/plain": [
       "np.float64(6.590192462648329)"
      ]
     },
     "execution_count": 21,
     "metadata": {},
     "output_type": "execute_result"
    }
   ],
   "source": [
    "#################################\n",
    "##mean and sd of HTN prevalence##\n",
    "#################################\n",
    "\n",
    "df['pop_htn'].mean()\n",
    "htn_summary = df.groupby('Income')['htn'].agg(['mean', 'std']).reset_index()\n",
    "\n",
    "# Rename the columns for clarity\n",
    "htn_summary.columns = ['Income Region', 'Mean HTN', 'SD HTN']\n",
    "\n",
    "print(htn_summary)\n",
    "\n",
    "df['htn'].std()"
   ]
  },
  {
   "cell_type": "code",
   "execution_count": 23,
   "metadata": {},
   "outputs": [
    {
     "name": "stdout",
     "output_type": "stream",
     "text": [
      "         Income Region   Mean phy     SD phy\n",
      "0          High income  33.794590  15.668202\n",
      "1           Low income   1.929600   2.628208\n",
      "2  Lower middle income   7.756531  10.026719\n",
      "3  Upper middle income  20.737969  14.395129\n"
     ]
    }
   ],
   "source": [
    "#################################\n",
    "##Mean and sd of Phy##\n",
    "#################################\n",
    "\n",
    "df['phy'].mean()\n",
    "htn_summary = df.groupby('Income')['phy'].agg(['mean', 'std']).reset_index()\n",
    "\n",
    "# Rename the columns for clarity\n",
    "htn_summary.columns = ['Income Region', 'Mean phy', 'SD phy']\n",
    "\n",
    "print(htn_summary)"
   ]
  },
  {
   "cell_type": "code",
   "execution_count": 24,
   "metadata": {},
   "outputs": [
    {
     "name": "stdout",
     "output_type": "stream",
     "text": [
      "         Income Region  Mean nurse   SD nurse\n",
      "0          High income   88.683443  73.800768\n",
      "1           Low income   14.837200  42.223880\n",
      "2  Lower middle income   20.758163  15.600080\n",
      "3  Upper middle income   40.793750  21.830751\n"
     ]
    }
   ],
   "source": [
    "#################################\n",
    "##Mean and sd of nurses##\n",
    "#################################\n",
    "\n",
    "df['nurse'].mean()\n",
    "htn_summary = df.groupby('Income')['nurse'].agg(['mean', 'std']).reset_index()\n",
    "\n",
    "# Rename the columns for clarity\n",
    "htn_summary.columns = ['Income Region', 'Mean nurse', 'SD nurse']\n",
    "\n",
    "print(htn_summary)"
   ]
  },
  {
   "cell_type": "code",
   "execution_count": 25,
   "metadata": {},
   "outputs": [
    {
     "name": "stdout",
     "output_type": "stream",
     "text": [
      "         Income Region  Mean pharma  SD pharma\n",
      "0          High income     7.983770   5.364881\n",
      "1           Low income     0.591960   1.940471\n",
      "2  Lower middle income     1.671347   2.312745\n",
      "3  Upper middle income     3.085688   3.368782\n"
     ]
    }
   ],
   "source": [
    "#################################\n",
    "##Mean and sd of pharma]##\n",
    "#################################\n",
    "\n",
    "df['pharma'].mean()\n",
    "htn_summary = df.groupby('Income')['pharma'].agg(['mean', 'std']).reset_index()\n",
    "\n",
    "# Rename the columns for clarity\n",
    "htn_summary.columns = ['Income Region', 'Mean pharma', 'SD pharma']\n",
    "\n",
    "print(htn_summary)"
   ]
  },
  {
   "cell_type": "code",
   "execution_count": 26,
   "metadata": {},
   "outputs": [
    {
     "name": "stdout",
     "output_type": "stream",
     "text": [
      "         Income Region     Mean hw      SD hw\n",
      "0          High income  131.048864  84.060037\n",
      "1           Low income   24.076319  41.705292\n",
      "2  Lower middle income   36.748406  26.767139\n",
      "3  Upper middle income   67.060700  32.912865\n"
     ]
    }
   ],
   "source": [
    "#################################\n",
    "##Mean and sd of HWs##\n",
    "#################################\n",
    "\n",
    "df['hw'].mean()\n",
    "htn_summary = df.groupby('Income')['hw'].agg(['mean', 'std']).reset_index()\n",
    "\n",
    "# Rename the columns for clarity\n",
    "htn_summary.columns = ['Income Region', 'Mean hw', 'SD hw']\n",
    "\n",
    "print(htn_summary)"
   ]
  },
  {
   "cell_type": "code",
   "execution_count": 39,
   "metadata": {},
   "outputs": [
    {
     "data": {
      "text/plain": [
       "np.float64(44.88333333333333)"
      ]
     },
     "execution_count": 39,
     "metadata": {},
     "output_type": "execute_result"
    }
   ],
   "source": [
    "df['chws'] = pd.to_numeric(df['chws'], errors='coerce')\n",
    "\n",
    "# Calculate the minimum and maximum values\n",
    "filtered_df=df[df['chws']!=0]\n",
    "\n",
    "filtered_df['chws'].min()\n",
    "filtered_df['chws'].max()\n"
   ]
  },
  {
   "cell_type": "code",
   "execution_count": 12,
   "metadata": {},
   "outputs": [
    {
     "name": "stdout",
     "output_type": "stream",
     "text": [
      "     Unnamed: 0    Country_x Code Sex_x  Year_x        htn      treat  \\\n",
      "0             0     Zimbabwe  ZWE   Men    2019  41.654452  34.033606   \n",
      "1             1      Namibia  NAM   Men    2019  43.699591  43.524628   \n",
      "2             2        Nauru  NRU   Men    2019  41.720059  28.790088   \n",
      "3             3        Nepal  NPL   Men    2019  36.763614  18.557965   \n",
      "4             4  Netherlands  NLD   Men    2019  30.505585  43.044550   \n",
      "..          ...          ...  ...   ...     ...        ...        ...   \n",
      "194         194      Vanuatu  VUT   Men    2019  39.607959  13.518640   \n",
      "195         195    Venezuela  VEN   Men    2019  39.403802  62.740932   \n",
      "196         196     Viet Nam  VNM   Men    2019  29.679449  30.115034   \n",
      "197         197        Yemen  YEM   Men    2019  29.314854  36.461627   \n",
      "198         198       Zambia  ZMB   Men    2019  32.031307  23.233238   \n",
      "\n",
      "       control      diagn  untreatedstage2HTN  ... gaps_percent_9  \\\n",
      "0    15.666534  45.838863           24.132367  ...       0.638617   \n",
      "1    21.088988  51.489389           20.213639  ...       0.546511   \n",
      "2    14.990684  53.197284           26.072456  ...       0.047833   \n",
      "3     7.184461  32.925583           27.646364  ...       0.357710   \n",
      "4    23.497359  51.877308           16.464991  ...      -0.730539   \n",
      "..         ...        ...                 ...  ...            ...   \n",
      "194   4.872313  29.863223           30.190489  ...       0.755885   \n",
      "195  32.469029  72.123623            9.922682  ...       0.774303   \n",
      "196  12.852032  47.617545           22.789845  ...       0.731202   \n",
      "197  16.463660  44.937842           14.957887  ...       0.874835   \n",
      "198   9.266264  43.085590           27.605339  ...       0.681584   \n",
      "\n",
      "    pop_htn_visit_10  gaps_hf_base_s_10  gaps_percent_10 pop_htn_visit_11  \\\n",
      "0       3.748901e+07       2.529591e+07         0.674755     4.123791e+07   \n",
      "1       6.991935e+06       4.138246e+06         0.591860     7.691128e+06   \n",
      "2       3.337605e+04       4.774447e+03         0.143050     3.671365e+04   \n",
      "3       5.882178e+07       2.481920e+07         0.421939     6.470396e+07   \n",
      "4       3.965726e+07      -2.210834e+07        -0.557485     4.362299e+07   \n",
      "..               ...                ...              ...              ...   \n",
      "194     7.525512e+05       5.872132e+05         0.780297     8.278063e+05   \n",
      "195     8.274798e+07       6.593958e+07         0.796872     9.102278e+07   \n",
      "196     2.166600e+08       1.642460e+08         0.758082     2.383260e+08   \n",
      "197     4.250654e+07       3.771826e+07         0.887352     4.675719e+07   \n",
      "198     3.299225e+07       2.353752e+07         0.713426     3.629147e+07   \n",
      "\n",
      "    gaps_hf_base_s_11  gaps_percent_11 pop_htn_visit_12  gaps_hf_base_s_12  \\\n",
      "0        2.904481e+07         0.704323     4.498681e+07       3.279371e+07   \n",
      "1        4.837439e+06         0.628964     8.390322e+06       5.536633e+06   \n",
      "2        8.112052e+03         0.220955     4.005126e+04       1.144966e+04   \n",
      "3        3.070138e+07         0.474490     7.058614e+07       3.658356e+07   \n",
      "4       -1.814261e+07        -0.415896     4.758871e+07      -1.417689e+07   \n",
      "..                ...              ...              ...                ...   \n",
      "194      6.624683e+05         0.800270     9.030615e+05       7.377235e+05   \n",
      "195      7.421438e+07         0.815339     9.929758e+07       8.248918e+07   \n",
      "196      1.859120e+08         0.780074     2.599920e+08       2.075780e+08   \n",
      "197      4.196891e+07         0.897593     5.100785e+07       4.621957e+07   \n",
      "198      2.683674e+07         0.739478     3.959070e+07       3.013597e+07   \n",
      "\n",
      "    gaps_percent_12  \n",
      "0          0.728963  \n",
      "1          0.659883  \n",
      "2          0.285875  \n",
      "3          0.518282  \n",
      "4         -0.297904  \n",
      "..              ...  \n",
      "194        0.816914  \n",
      "195        0.830727  \n",
      "196        0.798401  \n",
      "197        0.906127  \n",
      "198        0.761188  \n",
      "\n",
      "[199 rows x 105 columns]\n"
     ]
    }
   ],
   "source": [
    "###############################################################################\n",
    "##############################Non physician####################################\n",
    "###############################################################################\n",
    "\n",
    "# summarise this as a table \"Total Gap in Visit (Millions/y) by Average Number of Visits per Year (Base Case Scenario of Physician Volume)\"\n",
    "import pandas as pd\n",
    "from docx import Document\n",
    "import matplotlib.pyplot as plt\n",
    "from scipy.interpolate import make_interp_spline\n",
    "import numpy as np\n",
    "\n",
    "# Base scenario: one physician provides 20 consultations per day and works 200 days a year\n",
    "df['phy_s1'] = (df['n_phy'] * df['pop'] / 10000) * 200 * 20*0.1\n",
    "\n",
    "# Loop to vary 'i' from 1 to 12 and create columns for each 'i'\n",
    "for i in range(1, 13):\n",
    "    # Create a new column 'pop_mh_visit_i'\n",
    "    df[f'pop_htn_visit_{i}'] = df['pop_htn']*i\n",
    "    \n",
    "    # Calculate gaps in mental health care\n",
    "    df[f'gaps_hf_base_s_{i}'] = df[f'pop_htn_visit_{i}'] - df['phy_s1']\n",
    "\n",
    "    df[f'gaps_percent_{i}'] = (df[f'pop_htn_visit_{i}'] - df['phy_s1'])/ df[f'pop_htn_visit_{i}']\n",
    "\n",
    "# View the modified DataFrame\n",
    "print(df)\n",
    "\n",
    "df.columns\n",
    "\n",
    "# Assuming df contains columns 'Income' and 'gaps_hf_base_s_1' to 'gaps_hf_base_s_12'\n",
    "# Create a list to hold the data for the table\n",
    "table_data = []\n",
    "\n",
    "# Get unique income regions\n",
    "income_regions = df['Income'].unique()\n",
    "\n",
    "# Create the table data\n",
    "for region in income_regions:\n",
    "    # Filter the DataFrame for the current region\n",
    "    df_region = df[df['Income'] == region]\n",
    "    \n",
    "    # Collect gaps_hf_base_s_i values from 1 to 12\n",
    "    row = [region] + [-round(df_region[f'gaps_hf_base_s_{i}'].mean() / 1_000_000, 1) for i in range(1, 13)]\n",
    "    table_data.append(row)\n",
    "\n",
    "# Create a DataFrame for the table data\n",
    "columns = ['Income Region'] + [f'gaps_hf_base_s_{i}' for i in range(1, 13)]\n",
    "table_df = pd.DataFrame(table_data, columns=columns)\n",
    "\n",
    "# Add a 'Total' row at the bottom\n",
    "total_row = ['Total'] + [table_df[f'gaps_hf_base_s_{i}'].sum() for i in range(1, 13)]\n",
    "table_df.loc[len(table_df)] = total_row\n",
    "\n",
    "# Write the DataFrame to an Excel file\n",
    "table_df.to_excel('Gaps_Mental_Health_Care2.xlsx', index=False)"
   ]
  },
  {
   "cell_type": "code",
   "execution_count": 13,
   "metadata": {},
   "outputs": [
    {
     "name": "stdout",
     "output_type": "stream",
     "text": [
      "                Income  Frequency  Percentage (%)\n",
      "0  Upper middle income         64            32.2\n",
      "1          High income         61            30.7\n",
      "2  Lower middle income         49            24.6\n",
      "3           Low income         25            12.6\n"
     ]
    }
   ],
   "source": [
    "frequency = df['Income'].value_counts()\n",
    "percentage = (df['Income'].value_counts(normalize=True) * 100).round(1)\n",
    "summary_df = pd.DataFrame({\n",
    "    'Frequency': frequency,\n",
    "    'Percentage (%)': percentage\n",
    "})\n",
    "summary_df = summary_df.reset_index()\n",
    "summary_df.columns = ['Income', 'Frequency', 'Percentage (%)']\n",
    "print(summary_df)"
   ]
  },
  {
   "cell_type": "code",
   "execution_count": 14,
   "metadata": {},
   "outputs": [
    {
     "name": "stdout",
     "output_type": "stream",
     "text": [
      "     Unnamed: 0    Country_x Code Sex_x  Year_x        htn      treat  \\\n",
      "0             0     Zimbabwe  ZWE   Men    2019  41.654452  34.033606   \n",
      "1             1      Namibia  NAM   Men    2019  43.699591  43.524628   \n",
      "2             2        Nauru  NRU   Men    2019  41.720059  28.790088   \n",
      "3             3        Nepal  NPL   Men    2019  36.763614  18.557965   \n",
      "4             4  Netherlands  NLD   Men    2019  30.505585  43.044550   \n",
      "..          ...          ...  ...   ...     ...        ...        ...   \n",
      "194         194      Vanuatu  VUT   Men    2019  39.607959  13.518640   \n",
      "195         195    Venezuela  VEN   Men    2019  39.403802  62.740932   \n",
      "196         196     Viet Nam  VNM   Men    2019  29.679449  30.115034   \n",
      "197         197        Yemen  YEM   Men    2019  29.314854  36.461627   \n",
      "198         198       Zambia  ZMB   Men    2019  32.031307  23.233238   \n",
      "\n",
      "       control      diagn  untreatedstage2HTN  ... gaps_percent_9  \\\n",
      "0    15.666534  45.838863           24.132367  ...       0.618451   \n",
      "1    21.088988  51.489389           20.213639  ...       0.485387   \n",
      "2    14.990684  53.197284           26.072456  ...      -0.085329   \n",
      "3     7.184461  32.925583           27.646364  ...       0.252896   \n",
      "4    23.497359  51.877308           16.464991  ...      -1.289417   \n",
      "..         ...        ...                 ...  ...            ...   \n",
      "194   4.872313  29.863223           30.190489  ...       0.738156   \n",
      "195  32.469029  72.123623            9.922682  ...       0.586616   \n",
      "196  12.852032  47.617545           22.789845  ...       0.606462   \n",
      "197  16.463660  44.937842           14.957887  ...       0.830262   \n",
      "198   9.266264  43.085590           27.605339  ...       0.640374   \n",
      "\n",
      "    pop_htn_visit_10  gaps_hf_base_s_10  gaps_percent_10 pop_htn_visit_11  \\\n",
      "0       3.748901e+07       2.461551e+07         0.656606     4.123791e+07   \n",
      "1       6.991935e+06       3.753606e+06         0.536848     7.691128e+06   \n",
      "2       3.337605e+04       7.744472e+02         0.023204     3.671365e+04   \n",
      "3       5.882178e+07       1.927040e+07         0.327607     6.470396e+07   \n",
      "4       3.965726e+07      -4.205554e+07        -1.060475     4.362299e+07   \n",
      "..               ...                ...              ...              ...   \n",
      "194     7.525512e+05       5.752052e+05         0.764340     8.278063e+05   \n",
      "195     8.274798e+07       5.196198e+07         0.627955     9.102278e+07   \n",
      "196     2.166600e+08       1.399224e+08         0.645816     2.383260e+08   \n",
      "197     4.250654e+07       3.601306e+07         0.847236     4.675719e+07   \n",
      "198     3.299225e+07       2.231388e+07         0.676337     3.629147e+07   \n",
      "\n",
      "    gaps_hf_base_s_11  gaps_percent_11 pop_htn_visit_12  gaps_hf_base_s_12  \\\n",
      "0        2.836441e+07         0.687824     4.498681e+07       3.211331e+07   \n",
      "1        4.452799e+06         0.578953     8.390322e+06       5.151993e+06   \n",
      "2        4.112052e+03         0.112003     4.005126e+04       7.449657e+03   \n",
      "3        2.515258e+07         0.388733     7.058614e+07       3.103476e+07   \n",
      "4       -3.808981e+07        -0.873159     4.758871e+07      -3.412409e+07   \n",
      "..                ...              ...              ...                ...   \n",
      "194      6.504603e+05         0.785764     9.030615e+05       7.257155e+05   \n",
      "195      6.023678e+07         0.661777     9.929758e+07       6.851158e+07   \n",
      "196      1.615884e+08         0.678014     2.599920e+08       1.832544e+08   \n",
      "197      4.026371e+07         0.861123     5.100785e+07       4.451437e+07   \n",
      "198      2.561310e+07         0.705761     3.959070e+07       2.891233e+07   \n",
      "\n",
      "    gaps_percent_12  \n",
      "0          0.713838  \n",
      "1          0.614040  \n",
      "2          0.186003  \n",
      "3          0.439672  \n",
      "4         -0.717063  \n",
      "..              ...  \n",
      "194        0.803617  \n",
      "195        0.689962  \n",
      "196        0.704846  \n",
      "197        0.872696  \n",
      "198        0.730281  \n",
      "\n",
      "[199 rows x 105 columns]\n"
     ]
    }
   ],
   "source": [
    "###############################################################################\n",
    "#####################Both physician and non physician##########################\n",
    "###############################################################################\n",
    "\n",
    "# summarise this as a table \"Total Gap in Visit (Millions/y) by Average Number of Visits per Year (Base Case Scenario of Physician Volume)\"\n",
    "import pandas as pd\n",
    "from docx import Document\n",
    "import matplotlib.pyplot as plt\n",
    "from scipy.interpolate import make_interp_spline\n",
    "import numpy as np\n",
    "\n",
    "# Base scenario: one physician provides 20 consultations per day and works 200 days a year\n",
    "df['phy_s1'] = (df['hw'] * df['pop'] / 10000) * 200 * 20*0.1\n",
    "\n",
    "# Loop to vary 'i' from 1 to 12 and create columns for each 'i'\n",
    "for i in range(1, 13):\n",
    "    # Create a new column 'pop_mh_visit_i'\n",
    "    df[f'pop_htn_visit_{i}'] = df['pop_htn']*i\n",
    "    \n",
    "    # Calculate gaps in mental health care\n",
    "    df[f'gaps_hf_base_s_{i}'] = df[f'pop_htn_visit_{i}'] - df['phy_s1']\n",
    "\n",
    "    df[f'gaps_percent_{i}'] = (df[f'pop_htn_visit_{i}'] - df['phy_s1'])/ df[f'pop_htn_visit_{i}']\n",
    "\n",
    "# View the modified DataFrame\n",
    "print(df)\n",
    "\n",
    "df.columns\n",
    "\n",
    "# Assuming df contains columns 'Income' and 'gaps_hf_base_s_1' to 'gaps_hf_base_s_12'\n",
    "# Create a list to hold the data for the table\n",
    "table_data = []\n",
    "\n",
    "# Get unique income regions\n",
    "income_regions = df['Income'].unique()\n",
    "\n",
    "# Create the table data\n",
    "for region in income_regions:\n",
    "    # Filter the DataFrame for the current region\n",
    "    df_region = df[df['Income'] == region]\n",
    "    \n",
    "    # Collect gaps_hf_base_s_i values from 1 to 12\n",
    "    row = [region] + [-round(df_region[f'gaps_hf_base_s_{i}'].mean() / 1_000_000, 1) for i in range(1, 13)]\n",
    "    table_data.append(row)\n",
    "\n",
    "# Create a DataFrame for the table data\n",
    "columns = ['Income Region'] + [f'gaps_hf_base_s_{i}' for i in range(1, 13)]\n",
    "table_df = pd.DataFrame(table_data, columns=columns)\n",
    "\n",
    "# Add a 'Total' row at the bottom\n",
    "total_row = ['Total'] + [table_df[f'gaps_hf_base_s_{i}'].sum() for i in range(1, 13)]\n",
    "table_df.loc[len(table_df)] = total_row\n",
    "\n",
    "# Write the DataFrame to an Excel file\n",
    "table_df.to_excel('Gaps_Mental_Health_Care3.xlsx', index=False)"
   ]
  },
  {
   "cell_type": "code",
   "execution_count": 15,
   "metadata": {},
   "outputs": [
    {
     "name": "stdout",
     "output_type": "stream",
     "text": [
      "                Income  Frequency  Percentage (%)\n",
      "0  Upper middle income         64            32.2\n",
      "1          High income         61            30.7\n",
      "2  Lower middle income         49            24.6\n",
      "3           Low income         25            12.6\n"
     ]
    }
   ],
   "source": [
    "frequency = df['Income'].value_counts()\n",
    "percentage = (df['Income'].value_counts(normalize=True) * 100).round(1)\n",
    "summary_df = pd.DataFrame({\n",
    "    'Frequency': frequency,\n",
    "    'Percentage (%)': percentage\n",
    "})\n",
    "summary_df = summary_df.reset_index()\n",
    "summary_df.columns = ['Income', 'Frequency', 'Percentage (%)']\n",
    "print(summary_df)"
   ]
  }
 ],
 "metadata": {
  "kernelspec": {
   "display_name": "Python 3",
   "language": "python",
   "name": "python3"
  },
  "language_info": {
   "codemirror_mode": {
    "name": "ipython",
    "version": 3
   },
   "file_extension": ".py",
   "mimetype": "text/x-python",
   "name": "python",
   "nbconvert_exporter": "python",
   "pygments_lexer": "ipython3",
   "version": "3.12.4"
  }
 },
 "nbformat": 4,
 "nbformat_minor": 2
}
